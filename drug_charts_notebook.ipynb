{
 "cells": [
  {
   "cell_type": "code",
   "execution_count": null,
   "metadata": {},
   "outputs": [],
   "source": [
    "import pandas as pd\n",
    "import matplotlib.pyplot as plt\n",
    "import numpy as np\n",
    "\n",
    "# 设置中文字体支持\n",
    "plt.rcParams['font.sans-serif'] = ['SimHei', 'Arial Unicode MS', 'DejaVu Sans']\n",
    "plt.rcParams['axes.unicode_minus'] = False\n",
    "\n",
    "# 读取数据\n",
    "df = pd.read_csv('data/Pillbox_-_Archived_Data.csv')\n",
    "print(\"数据读取完成，共\", len(df), \"条记录\")\n",
    "print(df.head())"
   ]
  },
  {
   "cell_type": "code",
   "execution_count": null,
   "metadata": {},
   "outputs": [],
   "source": [
    "# 1. 药物形状分布柱状图\n",
    "plt.figure(figsize=(14, 8))\n",
    "\n",
    "# 统计药物形状的分布\n",
    "shape_counts = df['splshape_text'].value_counts().head(12)\n",
    "\n",
    "# 创建柱状图\n",
    "bars = plt.bar(range(len(shape_counts)), shape_counts.values, \n",
    "               color=plt.cm.Set3(np.linspace(0, 1, len(shape_counts))))\n",
    "\n",
    "# 设置标题和标签\n",
    "plt.title('药物形状分布 (前12种)', fontsize=18, fontweight='bold', pad=20)\n",
    "plt.xlabel('药物形状', fontsize=14)\n",
    "plt.ylabel('数量', fontsize=14)\n",
    "plt.xticks(range(len(shape_counts)), list(shape_counts.index), rotation=45, ha='right')\n",
    "\n",
    "# 添加数值标签\n",
    "for i, bar in enumerate(bars):\n",
    "    height = float(bar.get_height())\n",
    "    plt.text(bar.get_x() + bar.get_width()/2., height + height*0.01,\n",
    "             f'{int(height):,}', ha='center', va='bottom', fontweight='bold')\n",
    "\n",
    "# 添加网格线\n",
    "plt.grid(axis='y', alpha=0.3)\n",
    "plt.tight_layout()\n",
    "plt.show()"
   ]
  }
 ],
 "metadata": {
  "kernelspec": {
   "display_name": "Python 3",
   "language": "python",
   "name": "python3"
  },
  "language_info": {
   "codemirror_mode": {
    "name": "ipython",
    "version": 3
   },
   "file_extension": ".py",
   "mimetype": "text/x-python",
   "name": "python",
   "nbconvert_exporter": "python",
   "pygments_lexer": "ipython3",
   "version": "3.8.0"
  }
 },
 "nbformat": 4,
 "nbformat_minor": 4
}
